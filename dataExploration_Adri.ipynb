{
 "cells": [
  {
   "cell_type": "code",
   "execution_count": 23,
   "metadata": {},
   "outputs": [
    {
     "data": {
      "text/html": [
       "<div>\n",
       "<style scoped>\n",
       "    .dataframe tbody tr th:only-of-type {\n",
       "        vertical-align: middle;\n",
       "    }\n",
       "\n",
       "    .dataframe tbody tr th {\n",
       "        vertical-align: top;\n",
       "    }\n",
       "\n",
       "    .dataframe thead th {\n",
       "        text-align: right;\n",
       "    }\n",
       "</style>\n",
       "<table border=\"1\" class=\"dataframe\">\n",
       "  <thead>\n",
       "    <tr style=\"text-align: right;\">\n",
       "      <th></th>\n",
       "      <th>Id</th>\n",
       "      <th>groupId</th>\n",
       "      <th>matchId</th>\n",
       "      <th>assists</th>\n",
       "      <th>boosts</th>\n",
       "      <th>damageDealt</th>\n",
       "      <th>DBNOs</th>\n",
       "      <th>headshotKills</th>\n",
       "      <th>heals</th>\n",
       "      <th>killPlace</th>\n",
       "      <th>...</th>\n",
       "      <th>revives</th>\n",
       "      <th>rideDistance</th>\n",
       "      <th>roadKills</th>\n",
       "      <th>swimDistance</th>\n",
       "      <th>teamKills</th>\n",
       "      <th>vehicleDestroys</th>\n",
       "      <th>walkDistance</th>\n",
       "      <th>weaponsAcquired</th>\n",
       "      <th>winPoints</th>\n",
       "      <th>winPlacePerc</th>\n",
       "    </tr>\n",
       "  </thead>\n",
       "  <tbody>\n",
       "    <tr>\n",
       "      <th>0</th>\n",
       "      <td>7f96b2f878858a</td>\n",
       "      <td>4d4b580de459be</td>\n",
       "      <td>a10357fd1a4a91</td>\n",
       "      <td>0</td>\n",
       "      <td>0</td>\n",
       "      <td>0.00</td>\n",
       "      <td>0</td>\n",
       "      <td>0</td>\n",
       "      <td>0</td>\n",
       "      <td>60</td>\n",
       "      <td>...</td>\n",
       "      <td>0</td>\n",
       "      <td>0.0000</td>\n",
       "      <td>0</td>\n",
       "      <td>0.00</td>\n",
       "      <td>0</td>\n",
       "      <td>0</td>\n",
       "      <td>244.80</td>\n",
       "      <td>1</td>\n",
       "      <td>1466</td>\n",
       "      <td>0.4444</td>\n",
       "    </tr>\n",
       "    <tr>\n",
       "      <th>1</th>\n",
       "      <td>eef90569b9d03c</td>\n",
       "      <td>684d5656442f9e</td>\n",
       "      <td>aeb375fc57110c</td>\n",
       "      <td>0</td>\n",
       "      <td>0</td>\n",
       "      <td>91.47</td>\n",
       "      <td>0</td>\n",
       "      <td>0</td>\n",
       "      <td>0</td>\n",
       "      <td>57</td>\n",
       "      <td>...</td>\n",
       "      <td>0</td>\n",
       "      <td>0.0045</td>\n",
       "      <td>0</td>\n",
       "      <td>11.04</td>\n",
       "      <td>0</td>\n",
       "      <td>0</td>\n",
       "      <td>1434.00</td>\n",
       "      <td>5</td>\n",
       "      <td>0</td>\n",
       "      <td>0.6400</td>\n",
       "    </tr>\n",
       "    <tr>\n",
       "      <th>2</th>\n",
       "      <td>1eaf90ac73de72</td>\n",
       "      <td>6a4a42c3245a74</td>\n",
       "      <td>110163d8bb94ae</td>\n",
       "      <td>1</td>\n",
       "      <td>0</td>\n",
       "      <td>68.00</td>\n",
       "      <td>0</td>\n",
       "      <td>0</td>\n",
       "      <td>0</td>\n",
       "      <td>47</td>\n",
       "      <td>...</td>\n",
       "      <td>0</td>\n",
       "      <td>0.0000</td>\n",
       "      <td>0</td>\n",
       "      <td>0.00</td>\n",
       "      <td>0</td>\n",
       "      <td>0</td>\n",
       "      <td>161.80</td>\n",
       "      <td>2</td>\n",
       "      <td>0</td>\n",
       "      <td>0.7755</td>\n",
       "    </tr>\n",
       "    <tr>\n",
       "      <th>3</th>\n",
       "      <td>4616d365dd2853</td>\n",
       "      <td>a930a9c79cd721</td>\n",
       "      <td>f1f1f4ef412d7e</td>\n",
       "      <td>0</td>\n",
       "      <td>0</td>\n",
       "      <td>32.90</td>\n",
       "      <td>0</td>\n",
       "      <td>0</td>\n",
       "      <td>0</td>\n",
       "      <td>75</td>\n",
       "      <td>...</td>\n",
       "      <td>0</td>\n",
       "      <td>0.0000</td>\n",
       "      <td>0</td>\n",
       "      <td>0.00</td>\n",
       "      <td>0</td>\n",
       "      <td>0</td>\n",
       "      <td>202.70</td>\n",
       "      <td>3</td>\n",
       "      <td>0</td>\n",
       "      <td>0.1667</td>\n",
       "    </tr>\n",
       "    <tr>\n",
       "      <th>4</th>\n",
       "      <td>315c96c26c9aac</td>\n",
       "      <td>de04010b3458dd</td>\n",
       "      <td>6dc8ff871e21e6</td>\n",
       "      <td>0</td>\n",
       "      <td>0</td>\n",
       "      <td>100.00</td>\n",
       "      <td>0</td>\n",
       "      <td>0</td>\n",
       "      <td>0</td>\n",
       "      <td>45</td>\n",
       "      <td>...</td>\n",
       "      <td>0</td>\n",
       "      <td>0.0000</td>\n",
       "      <td>0</td>\n",
       "      <td>0.00</td>\n",
       "      <td>0</td>\n",
       "      <td>0</td>\n",
       "      <td>49.75</td>\n",
       "      <td>2</td>\n",
       "      <td>0</td>\n",
       "      <td>0.1875</td>\n",
       "    </tr>\n",
       "  </tbody>\n",
       "</table>\n",
       "<p>5 rows × 29 columns</p>\n",
       "</div>"
      ],
      "text/plain": [
       "               Id         groupId         matchId  assists  boosts  \\\n",
       "0  7f96b2f878858a  4d4b580de459be  a10357fd1a4a91        0       0   \n",
       "1  eef90569b9d03c  684d5656442f9e  aeb375fc57110c        0       0   \n",
       "2  1eaf90ac73de72  6a4a42c3245a74  110163d8bb94ae        1       0   \n",
       "3  4616d365dd2853  a930a9c79cd721  f1f1f4ef412d7e        0       0   \n",
       "4  315c96c26c9aac  de04010b3458dd  6dc8ff871e21e6        0       0   \n",
       "\n",
       "   damageDealt  DBNOs  headshotKills  heals  killPlace  ...  revives  \\\n",
       "0         0.00      0              0      0         60  ...        0   \n",
       "1        91.47      0              0      0         57  ...        0   \n",
       "2        68.00      0              0      0         47  ...        0   \n",
       "3        32.90      0              0      0         75  ...        0   \n",
       "4       100.00      0              0      0         45  ...        0   \n",
       "\n",
       "   rideDistance  roadKills  swimDistance  teamKills vehicleDestroys  \\\n",
       "0        0.0000          0          0.00          0               0   \n",
       "1        0.0045          0         11.04          0               0   \n",
       "2        0.0000          0          0.00          0               0   \n",
       "3        0.0000          0          0.00          0               0   \n",
       "4        0.0000          0          0.00          0               0   \n",
       "\n",
       "   walkDistance  weaponsAcquired  winPoints  winPlacePerc  \n",
       "0        244.80                1       1466        0.4444  \n",
       "1       1434.00                5          0        0.6400  \n",
       "2        161.80                2          0        0.7755  \n",
       "3        202.70                3          0        0.1667  \n",
       "4         49.75                2          0        0.1875  \n",
       "\n",
       "[5 rows x 29 columns]"
      ]
     },
     "execution_count": 23,
     "metadata": {},
     "output_type": "execute_result"
    }
   ],
   "source": [
    "import pandas as pd\n",
    "from pandas import DataFrame\n",
    "from typing import Dict, Literal\n",
    "import os\n",
    "trainDF = pd.read_csv('train_V2.csv')\n",
    "testDF = pd.read_csv('test_V2.csv')\n",
    "trainDF.head()"
   ]
  },
  {
   "cell_type": "code",
   "execution_count": 24,
   "metadata": {},
   "outputs": [
    {
     "name": "stdout",
     "output_type": "stream",
     "text": [
      "<class 'pandas.core.frame.DataFrame'>\n",
      "RangeIndex: 4446966 entries, 0 to 4446965\n",
      "Data columns (total 29 columns):\n",
      " #   Column           Dtype  \n",
      "---  ------           -----  \n",
      " 0   Id               object \n",
      " 1   groupId          object \n",
      " 2   matchId          object \n",
      " 3   assists          int64  \n",
      " 4   boosts           int64  \n",
      " 5   damageDealt      float64\n",
      " 6   DBNOs            int64  \n",
      " 7   headshotKills    int64  \n",
      " 8   heals            int64  \n",
      " 9   killPlace        int64  \n",
      " 10  killPoints       int64  \n",
      " 11  kills            int64  \n",
      " 12  killStreaks      int64  \n",
      " 13  longestKill      float64\n",
      " 14  matchDuration    int64  \n",
      " 15  matchType        object \n",
      " 16  maxPlace         int64  \n",
      " 17  numGroups        int64  \n",
      " 18  rankPoints       int64  \n",
      " 19  revives          int64  \n",
      " 20  rideDistance     float64\n",
      " 21  roadKills        int64  \n",
      " 22  swimDistance     float64\n",
      " 23  teamKills        int64  \n",
      " 24  vehicleDestroys  int64  \n",
      " 25  walkDistance     float64\n",
      " 26  weaponsAcquired  int64  \n",
      " 27  winPoints        int64  \n",
      " 28  winPlacePerc     float64\n",
      "dtypes: float64(6), int64(19), object(4)\n",
      "memory usage: 983.9+ MB\n"
     ]
    }
   ],
   "source": [
    "trainDF.info()"
   ]
  },
  {
   "cell_type": "code",
   "execution_count": 25,
   "metadata": {},
   "outputs": [
    {
     "data": {
      "text/plain": [
       "(4446966, 29)"
      ]
     },
     "execution_count": 25,
     "metadata": {},
     "output_type": "execute_result"
    }
   ],
   "source": [
    "trainDF.shape"
   ]
  },
  {
   "cell_type": "code",
   "execution_count": 26,
   "metadata": {},
   "outputs": [
    {
     "name": "stdout",
     "output_type": "stream",
     "text": [
      "(4446965, 29)\n",
      "(4446965, 25)\n"
     ]
    }
   ],
   "source": [
    "trainDF.dropna(inplace=True)\n",
    "print(trainDF.shape)\n",
    "trainDF.drop(['Id', 'killPoints', 'rankPoints', 'winPoints'],axis=1,inplace=True)\n",
    "print(trainDF.shape)"
   ]
  },
  {
   "cell_type": "code",
   "execution_count": 27,
   "metadata": {},
   "outputs": [
    {
     "name": "stdout",
     "output_type": "stream",
     "text": [
      "<class 'pandas.core.frame.DataFrame'>\n",
      "Index: 4446965 entries, 0 to 4446965\n",
      "Data columns (total 25 columns):\n",
      " #   Column           Dtype  \n",
      "---  ------           -----  \n",
      " 0   groupId          object \n",
      " 1   matchId          object \n",
      " 2   assists          int64  \n",
      " 3   boosts           int64  \n",
      " 4   damageDealt      float64\n",
      " 5   DBNOs            int64  \n",
      " 6   headshotKills    int64  \n",
      " 7   heals            int64  \n",
      " 8   killPlace        int64  \n",
      " 9   kills            int64  \n",
      " 10  killStreaks      int64  \n",
      " 11  longestKill      float64\n",
      " 12  matchDuration    int64  \n",
      " 13  matchType        object \n",
      " 14  maxPlace         int64  \n",
      " 15  numGroups        int64  \n",
      " 16  revives          int64  \n",
      " 17  rideDistance     float64\n",
      " 18  roadKills        int64  \n",
      " 19  swimDistance     float64\n",
      " 20  teamKills        int64  \n",
      " 21  vehicleDestroys  int64  \n",
      " 22  walkDistance     float64\n",
      " 23  weaponsAcquired  int64  \n",
      " 24  winPlacePerc     float64\n",
      "dtypes: float64(6), int64(16), object(3)\n",
      "memory usage: 882.1+ MB\n"
     ]
    }
   ],
   "source": [
    "trainDF.info()"
   ]
  },
  {
   "cell_type": "code",
   "execution_count": 28,
   "metadata": {},
   "outputs": [],
   "source": [
    "def dataframes_from_id_type(id_type: str, df: DataFrame, df_type: Literal[\"train\", \"test\"]) -> DataFrame:\n",
    "    match id_type:\n",
    "        case \"matchId\":\n",
    "            path = \"./data_groped_by_{}/{}\".format(id_type,df_type)\n",
    "            if not(os.path.exists(path)):\n",
    "                os.makedirs(path)\n",
    "            match_id_list = []\n",
    "            match_id_list = df.groupby('matchId').agg(list)\n",
    "            for i in range(match_id_list.shape[0]):\n",
    "                series = match_id_list.iloc[i]\n",
    "                if not(os.path.exists(\"{}/{}\".format(path, series.matchType[0]))):\n",
    "                    os.makedirs(\"{}/{}\".format(path, series.matchType[0]))\n",
    "                filename = \"{}/{}/{}.csv\".format(path,series.matchType[0],series.name)\n",
    "                series.to_csv(filename)\n",
    "            return match_id_list\n",
    "        case \"groupId\":\n",
    "            return []\n",
    "    return []"
   ]
  },
  {
   "cell_type": "code",
   "execution_count": 29,
   "metadata": {},
   "outputs": [],
   "source": [
    "x = dataframes_from_id_type(id_type=\"matchId\", df=trainDF, df_type=\"train\")"
   ]
  },
  {
   "cell_type": "code",
   "execution_count": 30,
   "metadata": {},
   "outputs": [
    {
     "name": "stdout",
     "output_type": "stream",
     "text": [
      "(47964, 24)\n",
      "<class 'pandas.core.frame.DataFrame'>\n",
      "groupId            [14fdb6c222eff7, 1958cde581220c, 7b02f39a10095...\n",
      "assists            [1, 1, 0, 0, 0, 1, 0, 1, 1, 0, 0, 0, 0, 0, 0, ...\n",
      "boosts             [0, 2, 1, 0, 1, 0, 0, 1, 3, 0, 0, 0, 1, 1, 0, ...\n",
      "damageDealt        [37.8, 39.1, 80.74, 0.0, 145.9, 79.0, 28.36, 1...\n",
      "DBNOs              [0, 0, 0, 1, 1, 0, 0, 1, 4, 0, 1, 0, 1, 6, 0, ...\n",
      "headshotKills      [0, 0, 0, 0, 0, 0, 0, 0, 0, 0, 0, 0, 2, 0, 0, ...\n",
      "heals              [0, 3, 1, 1, 1, 0, 0, 8, 1, 0, 0, 0, 3, 2, 0, ...\n",
      "killPlace          [76, 39, 42, 57, 32, 53, 43, 16, 1, 77, 35, 61...\n",
      "kills              [0, 0, 0, 0, 1, 0, 0, 2, 6, 0, 1, 0, 2, 5, 0, ...\n",
      "killStreaks        [0, 0, 0, 0, 1, 0, 0, 1, 2, 0, 1, 0, 1, 2, 0, ...\n",
      "longestKill        [0.0, 0.0, 0.0, 0.0, 20.75, 0.0, 0.0, 21.09, 1...\n",
      "matchDuration      [1863, 1863, 1863, 1863, 1863, 1863, 1863, 186...\n",
      "matchType          [squad-fpp, squad-fpp, squad-fpp, squad-fpp, s...\n",
      "maxPlace           [29, 29, 29, 29, 29, 29, 29, 29, 29, 29, 29, 2...\n",
      "numGroups          [29, 29, 29, 29, 29, 29, 29, 29, 29, 29, 29, 2...\n",
      "revives            [0, 0, 0, 0, 0, 1, 0, 1, 0, 0, 0, 0, 0, 0, 0, ...\n",
      "rideDistance       [0.0, 5147.0, 64.13, 277.1, 0.0, 153.4, 367.0,...\n",
      "roadKills          [0, 0, 0, 0, 0, 0, 0, 0, 1, 0, 0, 0, 0, 0, 0, ...\n",
      "swimDistance       [0.0, 0.0, 0.0, 0.0, 0.0, 0.0, 0.0, 0.0, 0.0, ...\n",
      "teamKills          [0, 0, 0, 0, 0, 0, 0, 0, 0, 0, 0, 0, 0, 0, 0, ...\n",
      "vehicleDestroys    [0, 0, 0, 0, 0, 0, 0, 0, 0, 0, 0, 0, 0, 0, 0, ...\n",
      "walkDistance       [440.4, 2936.0, 4425.0, 858.1, 236.7, 1822.0, ...\n",
      "weaponsAcquired    [2, 5, 10, 4, 3, 4, 8, 2, 7, 1, 1, 3, 5, 5, 0,...\n",
      "winPlacePerc       [0.1071, 0.8571, 0.75, 0.4286, 0.4286, 0.4643,...\n",
      "Name: fffe92232706aa, dtype: object\n",
      "59\n"
     ]
    }
   ],
   "source": [
    "print(x.shape)\n",
    "print(type(x))\n",
    "print(x.iloc[47963])\n",
    "print(len(x.iloc[20]['assists']))"
   ]
  },
  {
   "cell_type": "code",
   "execution_count": 64,
   "metadata": {},
   "outputs": [],
   "source": [
    "from copy import copy\n",
    "from matplotlib import pyplot as plt\n",
    "\n",
    "data_grouped_by_game = {\n",
    "                        \"crashfpp\": [],\n",
    "                        \"crashtpp\": [],\n",
    "                        \"duo\": [],\n",
    "                        \"duo-fpp\": [],\n",
    "                        \"flarefpp\": [],\n",
    "                        \"flaretpp\": [],\n",
    "                        \"normal-duo\": [],\n",
    "                        \"normal-duo-fpp\": [],\n",
    "                        \"normal-solo\": [],\n",
    "                        \"normal-solo-fpp\": [],\n",
    "                        \"normal-squad\": [],\n",
    "                        \"normal-squad-fpp\": [],\n",
    "                        \"solo\": [],\n",
    "                        \"solo-fpp\": [],\n",
    "                        \"squad\": [],\n",
    "                        \"squad-fpp\": []\n",
    "                        }\n",
    "\n",
    "data_to_retrieve = {\n",
    "                    \"matchId\": \"\",\n",
    "                    \"matchDuration\": 0,\n",
    "                    \"numPlayers\": 0,\n",
    "                    \"numGroups\": 0\n",
    "                    }\n",
    "\n",
    "\n",
    "for i in range(x.shape[0]):\n",
    "    game_data = x.iloc[i]\n",
    "    data_holder = copy(data_to_retrieve)\n",
    "    data_holder[\"matchId\"] = game_data.name\n",
    "    data_holder[\"matchDuration\"] = game_data['matchDuration'][0]/60\n",
    "    data_holder[\"numGroups\"] = game_data[\"numGroups\"][0]\n",
    "    data_holder[\"numPlayers\"] = len(game_data[\"assists\"])\n",
    "    data_grouped_by_game[game_data[\"matchType\"][0]].append(data_holder)\n",
    "\n",
    "def match_type_data_boxplot(grouped_data: Dict,\n",
    "                            match_type: Literal[\"crashfpp\", \"crashtpp\", \"duo\", \"duo-fpp\", \"flarefpp\", \n",
    "                                                \"flaretpp\", \"normal-duo\", \"normal-duo-fpp\", \"normal-solo\", \"normal-solo-fpp\",\n",
    "                                                \"normal-squad\", \"normal-squad-fpp\", \"solo\", \"solo-fpp\", \"squad\", \"squad-fpp\"],\n",
    "                            data_to_boxplot: Literal[\"matchDuration\", \"numPlayers\", \"numGroups\"]) -> None:\n",
    "    data = []\n",
    "    for game in grouped_data[match_type]:\n",
    "        if data_to_boxplot == \"numPlayers\":\n",
    "            data.append(game[data_to_boxplot])\n",
    "        else:\n",
    "            retrieved_value = game[data_to_boxplot]\n",
    "            if data_to_boxplot == \"matchDuration\":\n",
    "                retrieved_value = retrieved_value / 60\n",
    "            data.append(retrieved_value)\n",
    "    plt.clf()\n",
    "    ax = plt.subplot()\n",
    "\n",
    "    rect = ax.boxplot(data)\n",
    "    ax.legend([data_to_boxplot])\n",
    "    if not(os.path.exists(\"./plots/train/boxplots/{}\".format(match_type))):\n",
    "        os.makedirs(\"./plots/train/boxplots/{}\".format(match_type))\n",
    "    plt.savefig(\"./plots/train/boxplots/{}/{}.png\".format(match_type, data_to_boxplot))\n",
    "    \n",
    "\n",
    "def compute_avg_of_match_type(grouped_data: Dict) -> Dict:\n",
    "    match_type_avgs = {\n",
    "                        \"crashfpp\": [],\n",
    "                        \"crashtpp\": [],\n",
    "                        \"duo\": [],\n",
    "                        \"duo-fpp\": [],\n",
    "                        \"flarefpp\": [],\n",
    "                        \"flaretpp\": [],\n",
    "                        \"normal-duo\": [],\n",
    "                        \"normal-duo-fpp\": [],\n",
    "                        \"normal-solo\": [],\n",
    "                        \"normal-solo-fpp\": [],\n",
    "                        \"normal-squad\": [],\n",
    "                        \"normal-squad-fpp\": [],\n",
    "                        \"solo\": [],\n",
    "                        \"solo-fpp\": [],\n",
    "                        \"squad\": [],\n",
    "                        \"squad-fpp\": []\n",
    "                        }\n",
    "    for match_type in grouped_data:\n",
    "        data_holder = copy(data_to_retrieve)\n",
    "        n_of_matches = 0\n",
    "        for game in grouped_data[match_type]:\n",
    "            n_of_matches += 1\n",
    "            for key in data_to_retrieve:\n",
    "                if key != \"matchId\":\n",
    "                    data_holder[key] += game[key]\n",
    "        print(\"Averages of \\\"{}\\\" match type are:\".format(match_type))\n",
    "        for key in data_to_retrieve:\n",
    "            if key != \"matchId\":\n",
    "                data_holder[key] /= n_of_matches\n",
    "                print(\"{}: {}\".format(key, data_holder[key]))\n",
    "        match_type_avgs[match_type] = data_holder\n",
    "        print(\"-------------------------------------------------------------\")\n",
    "    return match_type_avgs\n"
   ]
  },
  {
   "cell_type": "code",
   "execution_count": 65,
   "metadata": {},
   "outputs": [
    {
     "data": {
      "image/png": "[encoded data removed]",
      "text/plain": [
       "<Figure size 640x480 with 1 Axes>"
      ]
     },
     "metadata": {},
     "output_type": "display_data"
    }
   ],
   "source": [
    "match_types = [\"crashfpp\", \"crashtpp\", \"duo\", \"duo-fpp\", \"flarefpp\", \n",
    "               \"flaretpp\", \"normal-duo\", \"normal-duo-fpp\", \"normal-solo\", \"normal-solo-fpp\",\n",
    "               \"normal-squad\", \"normal-squad-fpp\", \"solo\", \"solo-fpp\", \"squad\", \"squad-fpp\"]\n",
    "for type in match_types:\n",
    "    match_type_data_boxplot(grouped_data = data_grouped_by_game, match_type=type, data_to_boxplot=\"numGroups\")"
   ]
  },
  {
   "cell_type": "code",
   "execution_count": 61,
   "metadata": {},
   "outputs": [
    {
     "name": "stdout",
     "output_type": "stream",
     "text": [
      "Averages of \"crashfpp\" match type are:\n",
      "matchDuration: 14.87876712328767\n",
      "numPlayers: 86.12328767123287\n",
      "numGroups: 42.87671232876713\n",
      "-------------------------------------------------------------\n",
      "Averages of \"crashtpp\" match type are:\n",
      "matchDuration: 14.913333333333332\n",
      "numPlayers: 74.2\n",
      "numGroups: 36.0\n",
      "-------------------------------------------------------------\n",
      "Averages of \"duo\" match type are:\n",
      "matchDuration: 27.467654946364735\n",
      "numPlayers: 93.44189511323003\n",
      "numGroups: 45.38855780691299\n",
      "-------------------------------------------------------------\n",
      "Averages of \"duo-fpp\" match type are:\n",
      "matchDuration: 26.335990269930978\n",
      "numPlayers: 93.85037664783428\n",
      "numGroups: 45.80894538606403\n",
      "-------------------------------------------------------------\n",
      "Averages of \"flarefpp\" match type are:\n",
      "matchDuration: 31.51851851851852\n",
      "numPlayers: 79.77777777777777\n",
      "numGroups: 22.22222222222222\n",
      "-------------------------------------------------------------\n",
      "Averages of \"flaretpp\" match type are:\n",
      "matchDuration: 31.19367816091954\n",
      "numPlayers: 86.37931034482759\n",
      "numGroups: 23.96551724137931\n",
      "-------------------------------------------------------------\n",
      "Averages of \"normal-duo\" match type are:\n",
      "matchDuration: 20.541666666666664\n",
      "numPlayers: 16.583333333333332\n",
      "numGroups: 8.416666666666666\n",
      "-------------------------------------------------------------\n",
      "Averages of \"normal-duo-fpp\" match type are:\n",
      "matchDuration: 24.211497890295348\n",
      "numPlayers: 34.74050632911393\n",
      "numGroups: 17.81645569620253\n",
      "-------------------------------------------------------------\n",
      "Averages of \"normal-solo\" match type are:\n",
      "matchDuration: 19.83405797101449\n",
      "numPlayers: 14.173913043478262\n",
      "numGroups: 10.08695652173913\n",
      "-------------------------------------------------------------\n",
      "Averages of \"normal-solo-fpp\" match type are:\n",
      "matchDuration: 16.26440972222223\n",
      "numPlayers: 17.520833333333332\n",
      "numGroups: 12.78125\n",
      "-------------------------------------------------------------\n",
      "Averages of \"normal-squad\" match type are:\n",
      "matchDuration: 19.711458333333333\n",
      "numPlayers: 32.25\n",
      "numGroups: 7.75\n",
      "-------------------------------------------------------------\n",
      "Averages of \"normal-squad-fpp\" match type are:\n",
      "matchDuration: 23.518854748603356\n",
      "numPlayers: 47.97206703910614\n",
      "numGroups: 11.033519553072626\n",
      "-------------------------------------------------------------\n",
      "Averages of \"solo\" match type are:\n",
      "matchDuration: 28.162030184298256\n",
      "numPlayers: 79.20896821941663\n",
      "numGroups: 73.39007400957772\n",
      "-------------------------------------------------------------\n",
      "Averages of \"solo-fpp\" match type are:\n",
      "matchDuration: 26.28245567688162\n",
      "numPlayers: 94.53346248679112\n",
      "numGroups: 92.19038393800633\n",
      "-------------------------------------------------------------\n",
      "Averages of \"squad\" match type are:\n",
      "matchDuration: 26.786650145188833\n",
      "numPlayers: 94.10123160108141\n",
      "numGroups: 26.596575548212677\n",
      "-------------------------------------------------------------\n",
      "Averages of \"squad-fpp\" match type are:\n",
      "matchDuration: 25.89059000861323\n",
      "numPlayers: 94.54059000861326\n",
      "numGroups: 27.248115848406545\n",
      "-------------------------------------------------------------\n"
     ]
    }
   ],
   "source": [
    "avgs = compute_avg_of_match_type(data_grouped_by_game)"
   ]
  },
  {
   "cell_type": "code",
   "execution_count": null,
   "metadata": {},
   "outputs": [
    {
     "data": {
      "image/png": "[encoded data removed]",
      "text/plain": [
       "<Figure size 640x480 with 1 Axes>"
      ]
     },
     "metadata": {},
     "output_type": "display_data"
    }
   ],
   "source": [
    "from matplotlib import pyplot as plt\n",
    "game_length = []\n",
    "games = []\n",
    "for i in range(x.shape[0]):\n",
    "    game_data = x.iloc[i]\n",
    "    games.append(i+1)\n",
    "    game_length.append((game_data['matchDuration'][0])/60)\n",
    "\n",
    "ax = plt.subplot()\n",
    "\n",
    "\n",
    "rect = ax.boxplot(game_length)\n",
    "ax.legend(['game_length(min)'])\n",
    "\n",
    "plt.savefig(\"./plots/boxplot_game_length_minutes.png\")"
   ]
  },
  {
   "cell_type": "code",
   "execution_count": 15,
   "metadata": {},
   "outputs": [
    {
     "data": {
      "image/png": "[encoded data removed]",
      "text/plain": [
       "<Figure size 640x480 with 1 Axes>"
      ]
     },
     "metadata": {},
     "output_type": "display_data"
    }
   ],
   "source": [
    "from matplotlib import pyplot as plt\n",
    "n_players = []\n",
    "games = []\n",
    "for i in range(x.shape[0]):\n",
    "    game_data = x.iloc[i]\n",
    "    games.append(i+1)\n",
    "    n_players.append(len(game_data['assists']))\n",
    "\n",
    "ax = plt.subplot()\n",
    "\n",
    "rect = ax.boxplot(n_players)\n",
    "ax.legend(['num_players'])\n",
    "\n",
    "plt.savefig(\"./plots/boxplot_num_players_of_games.png\")"
   ]
  },
  {
   "cell_type": "code",
   "execution_count": 16,
   "metadata": {},
   "outputs": [
    {
     "data": {
      "image/png": "[encoded data removed]",
      "text/plain": [
       "<Figure size 640x480 with 1 Axes>"
      ]
     },
     "metadata": {},
     "output_type": "display_data"
    }
   ],
   "source": [
    "from matplotlib import pyplot as plt\n",
    "n_groups = []\n",
    "games = []\n",
    "for i in range(x.shape[0]):\n",
    "    game_data = x.iloc[i]\n",
    "    games.append(i+1)\n",
    "    group_id_of_current_game = []\n",
    "    for group_id in game_data[\"groupId\"]:\n",
    "        if not(group_id in group_id_of_current_game):\n",
    "            group_id_of_current_game.append(group_id)\n",
    "    n_groups.append(len(group_id_of_current_game))\n",
    "\n",
    "ax = plt.subplot()\n",
    "\n",
    "rect = ax.boxplot(n_groups)\n",
    "ax.legend(['num_of_groups_per_match'])\n",
    "\n",
    "plt.savefig(\"./plots/boxplot_num_groups_of_games.png\")"
   ]
  },
  {
   "cell_type": "code",
   "execution_count": 136,
   "metadata": {},
   "outputs": [
    {
     "ename": "",
     "evalue": "",
     "output_type": "error",
     "traceback": [
      "\u001b[1;31mThe Kernel crashed while executing code in the current cell or a previous cell. \n",
      "\u001b[1;31mPlease review the code in the cell(s) to identify a possible cause of the failure. \n",
      "\u001b[1;31mClick <a href='https://aka.ms/vscodeJupyterKernelCrash'>here</a> for more info. \n",
      "\u001b[1;31mView Jupyter <a href='command:jupyter.viewOutput'>log</a> for further details."
     ]
    }
   ],
   "source": [
    "\n",
    "game_length = []\n",
    "games = []\n",
    "for i in range(x.shape[0]):\n",
    "    game_data = x.iloc[i]\n",
    "    games.append(i+1)\n",
    "    game_length.append((game_data['matchDuration'][0])/60)\n",
    "\n",
    "ax = plt.subplot()\n",
    "\n",
    "\n",
    "rect = ax.bar(x = games, height = game_length, color = \"#1f77b4\")\n",
    "ax.legend(['game_length(min)'], loc='center left', bbox_to_anchor=(1, 0.5))\n",
    "\n",
    "def autolabel(rects):\n",
    "    for rect in rects:\n",
    "        h = rect.get_height()\n",
    "        ax.text(rect.get_x()+rect.get_width()/2., 1.005*h, '%d'%int(h),\n",
    "                ha='center', va='bottom')\n",
    "autolabel(rect)\n",
    "plt.savefig(\"./plots/game_length_minutes.png\")"
   ]
  },
  {
   "cell_type": "code",
   "execution_count": 116,
   "metadata": {},
   "outputs": [
    {
     "data": {
      "image/png": "[encoded data removed]",
      "text/plain": [
       "<Figure size 640x480 with 1 Axes>"
      ]
     },
     "metadata": {},
     "output_type": "display_data"
    }
   ],
   "source": [
    "from matplotlib import pyplot as plt\n",
    "n_players = []\n",
    "games = []\n",
    "for i in range(x.shape[0]):\n",
    "    game_data = x.iloc[i]\n",
    "    games.append(i+1)\n",
    "    n_players.append(len(game_data['Id']))\n",
    "\n",
    "ax = plt.subplot()\n",
    "\n",
    "\n",
    "rect = ax.bar(x = games, height = n_players, color = \"#1f77b4\")\n",
    "ax.legend(['tot_n_of_players'], loc='center left', bbox_to_anchor=(1, 0.5))\n",
    "\n",
    "def autolabel(rects):\n",
    "    for rect in rects:\n",
    "        h = rect.get_height()\n",
    "        ax.text(rect.get_x()+rect.get_width()/2., 1.005*h, '%d'%int(h),\n",
    "                ha='center', va='bottom')\n",
    "autolabel(rect)\n",
    "plt.savefig(\"./plots/num_players_of_games.png\")"
   ]
  },
  {
   "cell_type": "code",
   "execution_count": 105,
   "metadata": {},
   "outputs": [
    {
     "data": {
      "image/png": "[encoded data removed]",
      "text/plain": [
       "<Figure size 640x480 with 1 Axes>"
      ]
     },
     "metadata": {},
     "output_type": "display_data"
    }
   ],
   "source": [
    "from matplotlib import pyplot as plt\n",
    "n_groups = []\n",
    "n_solos = []\n",
    "games = []\n",
    "for i in range(x.shape[0]):\n",
    "    game_data = x.iloc[i]\n",
    "    games.append(i+1)\n",
    "    group_id_of_current_game = []\n",
    "    for group_id in game_data[\"groupId\"]:\n",
    "        if not(group_id in group_id_of_current_game):\n",
    "            group_id_of_current_game.append(group_id)\n",
    "    n_groups.append(len(group_id_of_current_game))\n",
    "    \n",
    "ax = plt.subplot()\n",
    "rect = ax.bar(x = games, height = n_groups, color ='#1f77b4')\n",
    "ax.legend(['tot_n_of_groups'], loc='center left', bbox_to_anchor=(1, 0.5))\n",
    "\n",
    "def autolabel(rects):\n",
    "    for rect in rects:\n",
    "        h = rect.get_height()\n",
    "        ax.text(rect.get_x()+rect.get_width()/2., 1.005*h, '%d'%int(h),\n",
    "                ha='center', va='bottom')\n",
    "autolabel(rect)\n",
    "plt.savefig(\"./plots/num_groups_of_games.png\")"
   ]
  },
  {
   "cell_type": "code",
   "execution_count": 111,
   "metadata": {},
   "outputs": [
    {
     "data": {
      "image/png": "[encoded data removed]",
      "text/plain": [
       "<Figure size 640x480 with 1 Axes>"
      ]
     },
     "metadata": {},
     "output_type": "display_data"
    },
    {
     "data": {
      "text/plain": [
       "<Figure size 640x480 with 0 Axes>"
      ]
     },
     "metadata": {},
     "output_type": "display_data"
    }
   ],
   "source": [
    "from matplotlib import pyplot as plt\n",
    "import numpy as np\n",
    "n_groups = []\n",
    "n_solos = []\n",
    "games = []\n",
    "for i in range(x.shape[0]):\n",
    "    game_data = x.iloc[i]\n",
    "    games.append(i+1)\n",
    "    group_id_of_current_game = []\n",
    "    solos_id_of_current_game = []\n",
    "    for group_id in game_data[\"groupId\"]:\n",
    "        if not(group_id in solos_id_of_current_game) and not(group_id in group_id_of_current_game):\n",
    "            solos_id_of_current_game.append(group_id)\n",
    "        else:\n",
    "            if group_id in solos_id_of_current_game:\n",
    "                solos_id_of_current_game.remove(group_id)\n",
    "                group_id_of_current_game.append(group_id)\n",
    "    n_groups.append(len(group_id_of_current_game))\n",
    "    n_solos.append(len(solos_id_of_current_game))\n",
    "games = np.array(games)\n",
    "width = 0.27\n",
    "ax = plt.subplot()\n",
    "\n",
    "rects1 = ax.bar(x = games, height = n_groups, color ='#1f77b4', width=width, align=\"center\")\n",
    "rects2 = ax.bar(x = games + width, height = n_solos, color ='#d62728', width=width, align=\"center\")\n",
    "\n",
    "ax.set_ylabel('Num of instances')\n",
    "# ax.set_xticks(mult*(games)+ width)\n",
    "# x_labels = []\n",
    "# for i,game in enumerate(games):\n",
    "#     x_labels.append(\"{}\".format(game))\n",
    "# ax.set_xticklabels( tuple(x_labels) )\n",
    "ax.legend( (rects1[0], rects2[0]), ('normal_groups', 'solo_groups'), loc='center left', bbox_to_anchor=(1, 0.5))\n",
    "\n",
    "def autolabel(rects):\n",
    "    for rect in rects:\n",
    "        h = rect.get_height()\n",
    "        ax.text(rect.get_x()+rect.get_width()/2., 1.005*h, '%d'%int(h),\n",
    "                ha='center', va='bottom')\n",
    "\n",
    "autolabel(rects1)\n",
    "autolabel(rects2)\n",
    "\n",
    "plt.show()\n",
    "\n",
    "plt.savefig(\"./plots/num_groups_and_solos_of_games.png\")"
   ]
  }
 ],
 "metadata": {
  "kernelspec": {
   "display_name": ".venv",
   "language": "python",
   "name": "python3"
  },
  "language_info": {
   "codemirror_mode": {
    "name": "ipython",
    "version": 3
   },
   "file_extension": ".py",
   "mimetype": "text/x-python",
   "name": "python",
   "nbconvert_exporter": "python",
   "pygments_lexer": "ipython3",
   "version": "3.11.7"
  }
 },
 "nbformat": 4,
 "nbformat_minor": 2
}
