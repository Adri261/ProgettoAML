{
 "cells": [
  {
   "cell_type": "markdown",
   "metadata": {},
   "source": [
    "# Quantization"
   ]
  },
  {
   "cell_type": "markdown",
   "metadata": {},
   "source": [
    "Define a first TF lite model to check for compatibility"
   ]
  },
  {
   "cell_type": "code",
   "execution_count": 10,
   "metadata": {},
   "outputs": [
    {
     "name": "stderr",
     "output_type": "stream",
     "text": [
      "WARNING:absl:Compiled the loaded model, but the compiled metrics have yet to be built. `model.compile_metrics` will be empty until you train or evaluate the model.\n"
     ]
    },
    {
     "name": "stdout",
     "output_type": "stream",
     "text": [
      "INFO:tensorflow:Assets written to: C:\\Users\\marco\\AppData\\Local\\Temp\\tmpr6yq6p9r\\assets\n"
     ]
    },
    {
     "name": "stderr",
     "output_type": "stream",
     "text": [
      "INFO:tensorflow:Assets written to: C:\\Users\\marco\\AppData\\Local\\Temp\\tmpr6yq6p9r\\assets\n"
     ]
    },
    {
     "name": "stdout",
     "output_type": "stream",
     "text": [
      "Saved artifact at 'C:\\Users\\marco\\AppData\\Local\\Temp\\tmpr6yq6p9r'. The following endpoints are available:\n",
      "\n",
      "* Endpoint 'serve'\n",
      "  args_0 (POSITIONAL_ONLY): TensorSpec(shape=(None, 40), dtype=tf.float32, name='input_layer_4')\n",
      "Output Type:\n",
      "  TensorSpec(shape=(None, 1), dtype=tf.float32, name=None)\n",
      "Captures:\n",
      "  2433486705616: TensorSpec(shape=(), dtype=tf.resource, name=None)\n",
      "  2433486706384: TensorSpec(shape=(), dtype=tf.resource, name=None)\n",
      "  2433486707536: TensorSpec(shape=(), dtype=tf.resource, name=None)\n",
      "  2433486706000: TensorSpec(shape=(), dtype=tf.resource, name=None)\n",
      "  2433486707920: TensorSpec(shape=(), dtype=tf.resource, name=None)\n",
      "  2433486708496: TensorSpec(shape=(), dtype=tf.resource, name=None)\n",
      "  2433486709072: TensorSpec(shape=(), dtype=tf.resource, name=None)\n",
      "  2433486709840: TensorSpec(shape=(), dtype=tf.resource, name=None)\n",
      "  2433486709264: TensorSpec(shape=(), dtype=tf.resource, name=None)\n",
      "  2433486712528: TensorSpec(shape=(), dtype=tf.resource, name=None)\n"
     ]
    }
   ],
   "source": [
    "import tensorflow as tf\n",
    "\n",
    "# Load the Keras model\n",
    "model = tf.keras.models.load_model(\".\\\\bayes_best_model_grouped_trained.h5\")\n",
    "\n",
    "# Convert the model to TFLite format\n",
    "converter = tf.lite.TFLiteConverter.from_keras_model(model)\n",
    "tflite_model = converter.convert()"
   ]
  },
  {
   "cell_type": "markdown",
   "metadata": {},
   "source": [
    "## Dynamic Range Quantization"
   ]
  },
  {
   "cell_type": "code",
   "execution_count": 11,
   "metadata": {},
   "outputs": [
    {
     "name": "stderr",
     "output_type": "stream",
     "text": [
      "WARNING:absl:Compiled the loaded model, but the compiled metrics have yet to be built. `model.compile_metrics` will be empty until you train or evaluate the model.\n"
     ]
    },
    {
     "name": "stdout",
     "output_type": "stream",
     "text": [
      "INFO:tensorflow:Assets written to: C:\\Users\\marco\\AppData\\Local\\Temp\\tmpdbygkf8y\\assets\n"
     ]
    },
    {
     "name": "stderr",
     "output_type": "stream",
     "text": [
      "INFO:tensorflow:Assets written to: C:\\Users\\marco\\AppData\\Local\\Temp\\tmpdbygkf8y\\assets\n"
     ]
    },
    {
     "name": "stdout",
     "output_type": "stream",
     "text": [
      "Saved artifact at 'C:\\Users\\marco\\AppData\\Local\\Temp\\tmpdbygkf8y'. The following endpoints are available:\n",
      "\n",
      "* Endpoint 'serve'\n",
      "  args_0 (POSITIONAL_ONLY): TensorSpec(shape=(None, 40), dtype=tf.float32, name='input_layer_4')\n",
      "Output Type:\n",
      "  TensorSpec(shape=(None, 1), dtype=tf.float32, name=None)\n",
      "Captures:\n",
      "  2433488447504: TensorSpec(shape=(), dtype=tf.resource, name=None)\n",
      "  2433488446736: TensorSpec(shape=(), dtype=tf.resource, name=None)\n",
      "  2433488446928: TensorSpec(shape=(), dtype=tf.resource, name=None)\n",
      "  2433488446160: TensorSpec(shape=(), dtype=tf.resource, name=None)\n",
      "  2433488445968: TensorSpec(shape=(), dtype=tf.resource, name=None)\n",
      "  2433488445200: TensorSpec(shape=(), dtype=tf.resource, name=None)\n",
      "  2433488445776: TensorSpec(shape=(), dtype=tf.resource, name=None)\n",
      "  2433488444240: TensorSpec(shape=(), dtype=tf.resource, name=None)\n",
      "  2433488445008: TensorSpec(shape=(), dtype=tf.resource, name=None)\n",
      "  2433488448080: TensorSpec(shape=(), dtype=tf.resource, name=None)\n"
     ]
    }
   ],
   "source": [
    "model = tf.keras.models.load_model(\".\\\\bayes_best_model_grouped_trained.h5\")\n",
    "\n",
    "# Convert the model to TFLite format\n",
    "converter = tf.lite.TFLiteConverter.from_keras_model(model)\n",
    "converter.optimizations = [tf.lite.Optimize.DEFAULT]\n",
    "tflite_DynamicRange_quant_model = converter.convert()"
   ]
  },
  {
   "cell_type": "markdown",
   "metadata": {},
   "source": [
    "## Full Integer Quantization"
   ]
  },
  {
   "cell_type": "code",
   "execution_count": 13,
   "metadata": {},
   "outputs": [
    {
     "name": "stderr",
     "output_type": "stream",
     "text": [
      "WARNING:absl:Compiled the loaded model, but the compiled metrics have yet to be built. `model.compile_metrics` will be empty until you train or evaluate the model.\n"
     ]
    },
    {
     "name": "stdout",
     "output_type": "stream",
     "text": [
      "INFO:tensorflow:Assets written to: C:\\Users\\marco\\AppData\\Local\\Temp\\tmpiwkps6lz\\assets\n"
     ]
    },
    {
     "name": "stderr",
     "output_type": "stream",
     "text": [
      "INFO:tensorflow:Assets written to: C:\\Users\\marco\\AppData\\Local\\Temp\\tmpiwkps6lz\\assets\n"
     ]
    },
    {
     "name": "stdout",
     "output_type": "stream",
     "text": [
      "Saved artifact at 'C:\\Users\\marco\\AppData\\Local\\Temp\\tmpiwkps6lz'. The following endpoints are available:\n",
      "\n",
      "* Endpoint 'serve'\n",
      "  args_0 (POSITIONAL_ONLY): TensorSpec(shape=(None, 40), dtype=tf.float32, name='input_layer_4')\n",
      "Output Type:\n",
      "  TensorSpec(shape=(None, 1), dtype=tf.float32, name=None)\n",
      "Captures:\n",
      "  2433486716752: TensorSpec(shape=(), dtype=tf.resource, name=None)\n",
      "  2433486715984: TensorSpec(shape=(), dtype=tf.resource, name=None)\n",
      "  2433486715792: TensorSpec(shape=(), dtype=tf.resource, name=None)\n",
      "  2433486706384: TensorSpec(shape=(), dtype=tf.resource, name=None)\n",
      "  2433486705616: TensorSpec(shape=(), dtype=tf.resource, name=None)\n",
      "  2433486708496: TensorSpec(shape=(), dtype=tf.resource, name=None)\n",
      "  2433486707920: TensorSpec(shape=(), dtype=tf.resource, name=None)\n",
      "  2433486712528: TensorSpec(shape=(), dtype=tf.resource, name=None)\n",
      "  2433486706000: TensorSpec(shape=(), dtype=tf.resource, name=None)\n",
      "  2433486710608: TensorSpec(shape=(), dtype=tf.resource, name=None)\n"
     ]
    },
    {
     "name": "stderr",
     "output_type": "stream",
     "text": [
      "c:\\Users\\marco\\Desktop\\Uni\\Magistrale\\AML\\Progetto\\ProgettoAML\\.venv\\Lib\\site-packages\\tensorflow\\lite\\python\\convert.py:997: UserWarning: Statistics for quantized inputs were expected, but not specified; continuing anyway.\n",
      "  warnings.warn(\n"
     ]
    }
   ],
   "source": [
    "import pandas as pd\n",
    "import numpy as np\n",
    "# Prepare representative_data\n",
    "data = pd.read_csv(\"X_train_grouped.csv\")\n",
    "data.drop(columns=[\"matchId\"], inplace=True)\n",
    "data_np = data.to_numpy().astype(\"float32\")\n",
    "\n",
    "def representative_data_gen():\n",
    "    for i in range(400):\n",
    "        yield [np.expand_dims(data_np[i], 0)]\n",
    "        \n",
    "# Convert the model to TFLite format with full integer quantization\n",
    "model = tf.keras.models.load_model(\".\\\\bayes_best_model_grouped_trained.h5\")\n",
    "converter = tf.lite.TFLiteConverter.from_keras_model(model)\n",
    "converter.optimizations = [tf.lite.Optimize.DEFAULT]\n",
    "converter.representative_dataset = representative_data_gen\n",
    "converter.target_spec.supported_ops = [tf.lite.OpsSet.TFLITE_BUILTINS_INT8]\n",
    "converter.inference_input_type = tf.uint8\n",
    "converter.inference_output_type = tf.uint8\n",
    "\n",
    "tflite_full_integer_quant_model = converter.convert()"
   ]
  },
  {
   "cell_type": "markdown",
   "metadata": {},
   "source": [
    "## Float16 Quantization"
   ]
  },
  {
   "cell_type": "code",
   "execution_count": 14,
   "metadata": {},
   "outputs": [
    {
     "name": "stderr",
     "output_type": "stream",
     "text": [
      "WARNING:absl:Compiled the loaded model, but the compiled metrics have yet to be built. `model.compile_metrics` will be empty until you train or evaluate the model.\n"
     ]
    },
    {
     "name": "stdout",
     "output_type": "stream",
     "text": [
      "INFO:tensorflow:Assets written to: C:\\Users\\marco\\AppData\\Local\\Temp\\tmpomdbq4yk\\assets\n"
     ]
    },
    {
     "name": "stderr",
     "output_type": "stream",
     "text": [
      "INFO:tensorflow:Assets written to: C:\\Users\\marco\\AppData\\Local\\Temp\\tmpomdbq4yk\\assets\n"
     ]
    },
    {
     "name": "stdout",
     "output_type": "stream",
     "text": [
      "Saved artifact at 'C:\\Users\\marco\\AppData\\Local\\Temp\\tmpomdbq4yk'. The following endpoints are available:\n",
      "\n",
      "* Endpoint 'serve'\n",
      "  args_0 (POSITIONAL_ONLY): TensorSpec(shape=(None, 40), dtype=tf.float32, name='input_layer_4')\n",
      "Output Type:\n",
      "  TensorSpec(shape=(None, 1), dtype=tf.float32, name=None)\n",
      "Captures:\n",
      "  2433484614224: TensorSpec(shape=(), dtype=tf.resource, name=None)\n",
      "  2433484610960: TensorSpec(shape=(), dtype=tf.resource, name=None)\n",
      "  2433484607504: TensorSpec(shape=(), dtype=tf.resource, name=None)\n",
      "  2433484611152: TensorSpec(shape=(), dtype=tf.resource, name=None)\n",
      "  2433484611344: TensorSpec(shape=(), dtype=tf.resource, name=None)\n",
      "  2433484614608: TensorSpec(shape=(), dtype=tf.resource, name=None)\n",
      "  2433484615184: TensorSpec(shape=(), dtype=tf.resource, name=None)\n",
      "  2433484614992: TensorSpec(shape=(), dtype=tf.resource, name=None)\n",
      "  2433484612304: TensorSpec(shape=(), dtype=tf.resource, name=None)\n",
      "  2433484612496: TensorSpec(shape=(), dtype=tf.resource, name=None)\n"
     ]
    }
   ],
   "source": [
    "model = tf.keras.models.load_model(\".\\\\bayes_best_model_grouped_trained.h5\")\n",
    "converter = tf.lite.TFLiteConverter.from_keras_model(model)\n",
    "converter.optimizations = [tf.lite.Optimize.DEFAULT]\n",
    "converter.target_spec.supported_types = [tf.float16]\n",
    "tflite_fp16_model = converter.convert()"
   ]
  },
  {
   "cell_type": "markdown",
   "metadata": {},
   "source": [
    "## Save the models"
   ]
  },
  {
   "cell_type": "code",
   "execution_count": 17,
   "metadata": {},
   "outputs": [],
   "source": [
    "dynamicRangePath = \".\\\\dynamicRange_quant_model.tflite\"\n",
    "fullIntegerPath = \".\\\\full_integer_quant_model.tflite\"\n",
    "fp16Path = \".\\\\fp16_quant_model.tflite\"\n",
    "\n",
    "with open(dynamicRangePath, \"wb\") as f:\n",
    "    f.write(tflite_DynamicRange_quant_model)\n",
    "    \n",
    "with open(fullIntegerPath, \"wb\") as f:\n",
    "    f.write(tflite_full_integer_quant_model)\n",
    "\n",
    "with open(fp16Path, \"wb\") as f:\n",
    "    f.write(tflite_fp16_model)"
   ]
  },
  {
   "cell_type": "markdown",
   "metadata": {},
   "source": [
    "## Check size of the models"
   ]
  },
  {
   "cell_type": "code",
   "execution_count": 22,
   "metadata": {},
   "outputs": [
    {
     "data": {
      "text/html": [
       "<pre style=\"white-space:pre;overflow-x:auto;line-height:normal;font-family:Menlo,'DejaVu Sans Mono',consolas,'Courier New',monospace\"><span style=\"font-weight: bold\">Model: \"sequential_4\"</span>\n",
       "</pre>\n"
      ],
      "text/plain": [
       "\u001b[1mModel: \"sequential_4\"\u001b[0m\n"
      ]
     },
     "metadata": {},
     "output_type": "display_data"
    },
    {
     "data": {
      "text/html": [
       "<pre style=\"white-space:pre;overflow-x:auto;line-height:normal;font-family:Menlo,'DejaVu Sans Mono',consolas,'Courier New',monospace\">┏━━━━━━━━━━━━━━━━━━━━━━━━━━━━━━━━━┳━━━━━━━━━━━━━━━━━━━━━━━━┳━━━━━━━━━━━━━━━┓\n",
       "┃<span style=\"font-weight: bold\"> Layer (type)                    </span>┃<span style=\"font-weight: bold\"> Output Shape           </span>┃<span style=\"font-weight: bold\">       Param # </span>┃\n",
       "┡━━━━━━━━━━━━━━━━━━━━━━━━━━━━━━━━━╇━━━━━━━━━━━━━━━━━━━━━━━━╇━━━━━━━━━━━━━━━┩\n",
       "│ dense_23 (<span style=\"color: #0087ff; text-decoration-color: #0087ff\">Dense</span>)                │ (<span style=\"color: #00d7ff; text-decoration-color: #00d7ff\">None</span>, <span style=\"color: #00af00; text-decoration-color: #00af00\">256</span>)            │        <span style=\"color: #00af00; text-decoration-color: #00af00\">10,496</span> │\n",
       "├─────────────────────────────────┼────────────────────────┼───────────────┤\n",
       "│ dense_24 (<span style=\"color: #0087ff; text-decoration-color: #0087ff\">Dense</span>)                │ (<span style=\"color: #00d7ff; text-decoration-color: #00d7ff\">None</span>, <span style=\"color: #00af00; text-decoration-color: #00af00\">224</span>)            │        <span style=\"color: #00af00; text-decoration-color: #00af00\">57,568</span> │\n",
       "├─────────────────────────────────┼────────────────────────┼───────────────┤\n",
       "│ dense_25 (<span style=\"color: #0087ff; text-decoration-color: #0087ff\">Dense</span>)                │ (<span style=\"color: #00d7ff; text-decoration-color: #00d7ff\">None</span>, <span style=\"color: #00af00; text-decoration-color: #00af00\">32</span>)             │         <span style=\"color: #00af00; text-decoration-color: #00af00\">7,200</span> │\n",
       "├─────────────────────────────────┼────────────────────────┼───────────────┤\n",
       "│ dense_26 (<span style=\"color: #0087ff; text-decoration-color: #0087ff\">Dense</span>)                │ (<span style=\"color: #00d7ff; text-decoration-color: #00d7ff\">None</span>, <span style=\"color: #00af00; text-decoration-color: #00af00\">32</span>)             │         <span style=\"color: #00af00; text-decoration-color: #00af00\">1,056</span> │\n",
       "├─────────────────────────────────┼────────────────────────┼───────────────┤\n",
       "│ dropout_4 (<span style=\"color: #0087ff; text-decoration-color: #0087ff\">Dropout</span>)             │ (<span style=\"color: #00d7ff; text-decoration-color: #00d7ff\">None</span>, <span style=\"color: #00af00; text-decoration-color: #00af00\">32</span>)             │             <span style=\"color: #00af00; text-decoration-color: #00af00\">0</span> │\n",
       "├─────────────────────────────────┼────────────────────────┼───────────────┤\n",
       "│ dense_27 (<span style=\"color: #0087ff; text-decoration-color: #0087ff\">Dense</span>)                │ (<span style=\"color: #00d7ff; text-decoration-color: #00d7ff\">None</span>, <span style=\"color: #00af00; text-decoration-color: #00af00\">1</span>)              │            <span style=\"color: #00af00; text-decoration-color: #00af00\">33</span> │\n",
       "└─────────────────────────────────┴────────────────────────┴───────────────┘\n",
       "</pre>\n"
      ],
      "text/plain": [
       "┏━━━━━━━━━━━━━━━━━━━━━━━━━━━━━━━━━┳━━━━━━━━━━━━━━━━━━━━━━━━┳━━━━━━━━━━━━━━━┓\n",
       "┃\u001b[1m \u001b[0m\u001b[1mLayer (type)                   \u001b[0m\u001b[1m \u001b[0m┃\u001b[1m \u001b[0m\u001b[1mOutput Shape          \u001b[0m\u001b[1m \u001b[0m┃\u001b[1m \u001b[0m\u001b[1m      Param #\u001b[0m\u001b[1m \u001b[0m┃\n",
       "┡━━━━━━━━━━━━━━━━━━━━━━━━━━━━━━━━━╇━━━━━━━━━━━━━━━━━━━━━━━━╇━━━━━━━━━━━━━━━┩\n",
       "│ dense_23 (\u001b[38;5;33mDense\u001b[0m)                │ (\u001b[38;5;45mNone\u001b[0m, \u001b[38;5;34m256\u001b[0m)            │        \u001b[38;5;34m10,496\u001b[0m │\n",
       "├─────────────────────────────────┼────────────────────────┼───────────────┤\n",
       "│ dense_24 (\u001b[38;5;33mDense\u001b[0m)                │ (\u001b[38;5;45mNone\u001b[0m, \u001b[38;5;34m224\u001b[0m)            │        \u001b[38;5;34m57,568\u001b[0m │\n",
       "├─────────────────────────────────┼────────────────────────┼───────────────┤\n",
       "│ dense_25 (\u001b[38;5;33mDense\u001b[0m)                │ (\u001b[38;5;45mNone\u001b[0m, \u001b[38;5;34m32\u001b[0m)             │         \u001b[38;5;34m7,200\u001b[0m │\n",
       "├─────────────────────────────────┼────────────────────────┼───────────────┤\n",
       "│ dense_26 (\u001b[38;5;33mDense\u001b[0m)                │ (\u001b[38;5;45mNone\u001b[0m, \u001b[38;5;34m32\u001b[0m)             │         \u001b[38;5;34m1,056\u001b[0m │\n",
       "├─────────────────────────────────┼────────────────────────┼───────────────┤\n",
       "│ dropout_4 (\u001b[38;5;33mDropout\u001b[0m)             │ (\u001b[38;5;45mNone\u001b[0m, \u001b[38;5;34m32\u001b[0m)             │             \u001b[38;5;34m0\u001b[0m │\n",
       "├─────────────────────────────────┼────────────────────────┼───────────────┤\n",
       "│ dense_27 (\u001b[38;5;33mDense\u001b[0m)                │ (\u001b[38;5;45mNone\u001b[0m, \u001b[38;5;34m1\u001b[0m)              │            \u001b[38;5;34m33\u001b[0m │\n",
       "└─────────────────────────────────┴────────────────────────┴───────────────┘\n"
      ]
     },
     "metadata": {},
     "output_type": "display_data"
    },
    {
     "data": {
      "text/html": [
       "<pre style=\"white-space:pre;overflow-x:auto;line-height:normal;font-family:Menlo,'DejaVu Sans Mono',consolas,'Courier New',monospace\"><span style=\"font-weight: bold\"> Total params: </span><span style=\"color: #00af00; text-decoration-color: #00af00\">76,355</span> (298.27 KB)\n",
       "</pre>\n"
      ],
      "text/plain": [
       "\u001b[1m Total params: \u001b[0m\u001b[38;5;34m76,355\u001b[0m (298.27 KB)\n"
      ]
     },
     "metadata": {},
     "output_type": "display_data"
    },
    {
     "data": {
      "text/html": [
       "<pre style=\"white-space:pre;overflow-x:auto;line-height:normal;font-family:Menlo,'DejaVu Sans Mono',consolas,'Courier New',monospace\"><span style=\"font-weight: bold\"> Trainable params: </span><span style=\"color: #00af00; text-decoration-color: #00af00\">76,353</span> (298.25 KB)\n",
       "</pre>\n"
      ],
      "text/plain": [
       "\u001b[1m Trainable params: \u001b[0m\u001b[38;5;34m76,353\u001b[0m (298.25 KB)\n"
      ]
     },
     "metadata": {},
     "output_type": "display_data"
    },
    {
     "data": {
      "text/html": [
       "<pre style=\"white-space:pre;overflow-x:auto;line-height:normal;font-family:Menlo,'DejaVu Sans Mono',consolas,'Courier New',monospace\"><span style=\"font-weight: bold\"> Non-trainable params: </span><span style=\"color: #00af00; text-decoration-color: #00af00\">0</span> (0.00 B)\n",
       "</pre>\n"
      ],
      "text/plain": [
       "\u001b[1m Non-trainable params: \u001b[0m\u001b[38;5;34m0\u001b[0m (0.00 B)\n"
      ]
     },
     "metadata": {},
     "output_type": "display_data"
    },
    {
     "data": {
      "text/html": [
       "<pre style=\"white-space:pre;overflow-x:auto;line-height:normal;font-family:Menlo,'DejaVu Sans Mono',consolas,'Courier New',monospace\"><span style=\"font-weight: bold\"> Optimizer params: </span><span style=\"color: #00af00; text-decoration-color: #00af00\">2</span> (12.00 B)\n",
       "</pre>\n"
      ],
      "text/plain": [
       "\u001b[1m Optimizer params: \u001b[0m\u001b[38;5;34m2\u001b[0m (12.00 B)\n"
      ]
     },
     "metadata": {},
     "output_type": "display_data"
    }
   ],
   "source": [
    "model.summary()"
   ]
  },
  {
   "cell_type": "code",
   "execution_count": 24,
   "metadata": {},
   "outputs": [
    {
     "name": "stdout",
     "output_type": "stream",
     "text": [
      "Original model size: 298.27 KB\n",
      "Dynamic Range Quantization model size: 85.53 KB\n",
      "Full Integer Quantization model size: 92.61 KB\n",
      "FP16 Quantization model size: 153.11 KB\n"
     ]
    }
   ],
   "source": [
    "import os\n",
    "\n",
    "def get_dir_size(path):\n",
    "    total_size = 0\n",
    "    for dirpath, dirnames, filenames in os.walk(path):\n",
    "        for f in filenames:\n",
    "            fp = os.path.join(dirpath, f)\n",
    "            total_size += os.path.getsize(fp)\n",
    "    return total_size\n",
    "originalModelSize = 298.27\n",
    "dynamicRangeSize = os.path.getsize(dynamicRangePath)\n",
    "fullIntegerSize = os.path.getsize(fullIntegerPath)\n",
    "fp16Size = os.path.getsize(fp16Path)\n",
    "\n",
    "print(\"Original model size: {:.2f} KB\".format(originalModelSize))\n",
    "print(\"Dynamic Range Quantization model size: {:.2f} KB\".format(dynamicRangeSize / 1024))\n",
    "print(\"Full Integer Quantization model size: {:.2f} KB\".format(fullIntegerSize / 1024))\n",
    "print(\"FP16 Quantization model size: {:.2f} KB\".format(fp16Size / 1024))"
   ]
  },
  {
   "cell_type": "markdown",
   "metadata": {},
   "source": [
    "## Models Evaluation"
   ]
  },
  {
   "cell_type": "code",
   "execution_count": 30,
   "metadata": {},
   "outputs": [
    {
     "name": "stderr",
     "output_type": "stream",
     "text": [
      "WARNING:absl:Compiled the loaded model, but the compiled metrics have yet to be built. `model.compile_metrics` will be empty until you train or evaluate the model.\n"
     ]
    },
    {
     "name": "stdout",
     "output_type": "stream",
     "text": [
      "\u001b[1m12668/12668\u001b[0m \u001b[32m━━━━━━━━━━━━━━━━━━━━\u001b[0m\u001b[37m\u001b[0m \u001b[1m9s\u001b[0m 672us/step\n",
      "Evaluating Dynamic Range Quantization model...\n",
      "Evaluating Full Integer Quantization model...\n",
      "Evaluating FP16 Quantization model...\n",
      "Results:\n",
      "Keras Model: MAE = 0.04885406047105789, Time = 12.029119729995728 sec\n",
      "Dynamic Range Quantization: MAE = [[0.04896348]], Time = 6.564631223678589 sec\n",
      "Full Integer Quantization: MAE = [[0.05473812]], Time = 8.010786294937134 sec\n",
      "FP16 Quantization: MAE = [[0.04885418]], Time = 7.618785619735718 sec\n"
     ]
    }
   ],
   "source": [
    "import time\n",
    "\n",
    "X_test = pd.read_csv(\"X_test_grouped.csv\")\n",
    "y_test = pd.read_csv(\"y_test_grouped.csv\")\n",
    "X_test.drop(columns=[\"matchId\"], inplace=True)\n",
    "\n",
    "X_test = X_test.to_numpy().astype(\"float32\")\n",
    "y_test = y_test.to_numpy().astype(\"float32\")\n",
    "\n",
    "keras_model = tf.keras.models.load_model(\".\\\\bayes_best_model_grouped_trained.h5\")\n",
    "tflite_models = {\n",
    "    \"Dynamic Range Quantization\": dynamicRangePath,\n",
    "    \"Full Integer Quantization\": fullIntegerPath,\n",
    "    \"FP16 Quantization\": fp16Path\n",
    "}\n",
    "\n",
    "def evaluate_keras_model(model, X_test, y_test):\n",
    "    start_time = time.time()\n",
    "    y_pred = model.predict(X_test)\n",
    "    end_time = time.time()\n",
    "    elapsed_time = end_time - start_time\n",
    "    mae = np.mean(np.abs(y_pred - y_test))\n",
    "    return mae, elapsed_time\n",
    "\n",
    "def evaluate_tflite_model(tflite_path, X_test, y_test):\n",
    "    interpreter = tf.lite.Interpreter(model_path=tflite_path)\n",
    "    interpreter.allocate_tensors()\n",
    "    input_details = interpreter.get_input_details()\n",
    "    output_details = interpreter.get_output_details()\n",
    "    input_index = input_details[0][\"index\"]\n",
    "    output_index = output_details[0][\"index\"]\n",
    "    if input_details[0][\"dtype\"] == np.uint8:\n",
    "        input_scale, input_zero_point = input_details[0][\"quantization\"]\n",
    "        X_test = X_test / input_scale + input_zero_point\n",
    "        X_test = X_test.astype(input_details[0][\"dtype\"])\n",
    "    start_time = time.time()\n",
    "    \n",
    "    total_error = 0.0\n",
    "    for i in range(len(X_test)):\n",
    "        input_data = np.expand_dims(X_test[i], axis=0)\n",
    "        interpreter.set_tensor(input_index, input_data)\n",
    "        interpreter.invoke()\n",
    "        output_data = interpreter.get_tensor(output_index)\n",
    "        \n",
    "        if output_details[0][\"dtype\"] == np.uint8:\n",
    "            output_scale, output_zero_point = output_details[0][\"quantization\"]\n",
    "            output_data = output_data.astype(np.float32)\n",
    "            output_data = (output_data - output_zero_point) * output_scale\n",
    "        total_error += np.abs(output_data - y_test[i])\n",
    "        \n",
    "    elapsed_time = time.time() - start_time\n",
    "    mae = total_error / len(X_test)\n",
    "    return mae, elapsed_time\n",
    "\n",
    "results = {}\n",
    "\n",
    "mae_keras, time_keras = evaluate_keras_model(keras_model, X_test, y_test)\n",
    "results[\"Keras Model\"] = {\"MAE\": mae_keras, \"Time (s)\": time_keras}\n",
    "for name,path in tflite_models.items():\n",
    "    print(f\"Evaluating {name} model...\")\n",
    "    mae_tflite, time_tflite = evaluate_tflite_model(path, X_test, y_test)\n",
    "    results[name] = {\"MAE\": mae_tflite, \"Time (s)\": time_tflite}\n",
    "    \n",
    "    \n",
    "print(\"Results:\")\n",
    "for model_name, metrics in results.items():\n",
    "    print(f\"{model_name}: MAE = {metrics['MAE']}, Time = {metrics['Time (s)']} sec\")"
   ]
  }
 ],
 "metadata": {
  "kernelspec": {
   "display_name": ".venv",
   "language": "python",
   "name": "python3"
  },
  "language_info": {
   "codemirror_mode": {
    "name": "ipython",
    "version": 3
   },
   "file_extension": ".py",
   "mimetype": "text/x-python",
   "name": "python",
   "nbconvert_exporter": "python",
   "pygments_lexer": "ipython3",
   "version": "3.12.9"
  }
 },
 "nbformat": 4,
 "nbformat_minor": 2
}
